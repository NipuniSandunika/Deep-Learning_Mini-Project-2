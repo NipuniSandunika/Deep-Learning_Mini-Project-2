{
  "nbformat": 4,
  "nbformat_minor": 0,
  "metadata": {
    "colab": {
      "provenance": []
    },
    "kernelspec": {
      "name": "python3",
      "display_name": "Python 3"
    },
    "language_info": {
      "name": "python"
    }
  },
  "cells": [
    {
      "cell_type": "markdown",
      "source": [
        "# **Mini Project 02**- W.M.NIPUNI SANDUNIKA (199984810186)"
      ],
      "metadata": {
        "id": "IjzEBO9GxIUp"
      }
    },
    {
      "cell_type": "code",
      "source": [
        "import os\n",
        "import numpy as np\n",
        "import pandas as pd\n",
        "from keras.preprocessing.text import one_hot\n",
        "from keras.preprocessing.sequence import pad_sequences\n",
        "from keras.models import Sequential\n",
        "from keras.callbacks import Callback\n",
        "from sklearn.model_selection import train_test_split\n",
        "from keras.layers import Dense,Embedding,LSTM\n",
        "from keras.metrics import RootMeanSquaredError\n",
        "from sklearn.metrics import mean_squared_error"
      ],
      "metadata": {
        "id": "IeAutZ7XpH0q"
      },
      "execution_count": 23,
      "outputs": []
    },
    {
      "cell_type": "markdown",
      "source": [
        "**Setting up the data folder into the Colab notebook**"
      ],
      "metadata": {
        "id": "AupuJo0QqB7S"
      }
    },
    {
      "cell_type": "code",
      "source": [
        "from google.colab import drive\n",
        "drive.mount(\"/content/drive\")"
      ],
      "metadata": {
        "colab": {
          "base_uri": "https://localhost:8080/"
        },
        "id": "P6bmI05nqJjC",
        "outputId": "54f58bab-f04b-42b6-bb84-008dfa2f79ad"
      },
      "execution_count": 24,
      "outputs": [
        {
          "output_type": "stream",
          "name": "stdout",
          "text": [
            "Drive already mounted at /content/drive; to attempt to forcibly remount, call drive.mount(\"/content/drive\", force_remount=True).\n"
          ]
        }
      ]
    },
    {
      "cell_type": "code",
      "source": [
        "os.chdir(\"/content/drive/My Drive/Deep Learning/Mini Project 02/\")\n",
        "os.getcwd()"
      ],
      "metadata": {
        "colab": {
          "base_uri": "https://localhost:8080/",
          "height": 36
        },
        "id": "UoLAC1d-qX2y",
        "outputId": "577da132-a2ee-425c-9bad-0ae193b3e8e1"
      },
      "execution_count": 25,
      "outputs": [
        {
          "output_type": "execute_result",
          "data": {
            "text/plain": [
              "'/content/drive/My Drive/Deep Learning/Mini Project 02'"
            ],
            "application/vnd.google.colaboratory.intrinsic+json": {
              "type": "string"
            }
          },
          "metadata": {},
          "execution_count": 25
        }
      ]
    },
    {
      "cell_type": "markdown",
      "source": [
        "**Reading the data file**"
      ],
      "metadata": {
        "id": "RUjam05crElR"
      }
    },
    {
      "cell_type": "code",
      "source": [
        "df = pd.read_csv(\"CSE.csv\")"
      ],
      "metadata": {
        "id": "1Id2J0oQrI_5"
      },
      "execution_count": 26,
      "outputs": []
    },
    {
      "cell_type": "code",
      "source": [
        "df.head(10)"
      ],
      "metadata": {
        "colab": {
          "base_uri": "https://localhost:8080/",
          "height": 363
        },
        "id": "66JuuvXmrcnh",
        "outputId": "af9baa51-75d5-4b12-d431-94cc9507861e"
      },
      "execution_count": 27,
      "outputs": [
        {
          "output_type": "execute_result",
          "data": {
            "text/plain": [
              "         Date        Open        High         Low       Close   Adj Close  \\\n",
              "0  1997-07-01  798.500000  798.500000  798.500000  798.500000  798.500000   \n",
              "1  1997-07-02  805.299988  805.299988  805.299988  805.299988  805.299988   \n",
              "2  1997-07-03  810.799988  810.799988  810.799988  810.799988  810.799988   \n",
              "3  1997-07-07  828.200012  828.200012  828.200012  828.200012  828.200012   \n",
              "4  1997-07-08  821.400024  821.400024  821.400024  821.400024  821.400024   \n",
              "5  1997-07-09  816.700012  816.700012  816.700012  816.700012  816.700012   \n",
              "6  1997-07-10  820.700012  820.700012  820.700012  820.700012  820.700012   \n",
              "7  1997-07-11  823.400024  823.400024  823.400024  823.400024  823.400024   \n",
              "8  1997-07-14  821.900024  821.900024  821.900024  821.900024  821.900024   \n",
              "9  1997-07-15         NaN         NaN         NaN         NaN         NaN   \n",
              "\n",
              "   Volume  \n",
              "0     0.0  \n",
              "1     0.0  \n",
              "2     0.0  \n",
              "3     0.0  \n",
              "4     0.0  \n",
              "5     0.0  \n",
              "6     0.0  \n",
              "7     0.0  \n",
              "8     0.0  \n",
              "9     NaN  "
            ],
            "text/html": [
              "\n",
              "  <div id=\"df-932383bb-2701-47c2-b5b3-67639841da2b\" class=\"colab-df-container\">\n",
              "    <div>\n",
              "<style scoped>\n",
              "    .dataframe tbody tr th:only-of-type {\n",
              "        vertical-align: middle;\n",
              "    }\n",
              "\n",
              "    .dataframe tbody tr th {\n",
              "        vertical-align: top;\n",
              "    }\n",
              "\n",
              "    .dataframe thead th {\n",
              "        text-align: right;\n",
              "    }\n",
              "</style>\n",
              "<table border=\"1\" class=\"dataframe\">\n",
              "  <thead>\n",
              "    <tr style=\"text-align: right;\">\n",
              "      <th></th>\n",
              "      <th>Date</th>\n",
              "      <th>Open</th>\n",
              "      <th>High</th>\n",
              "      <th>Low</th>\n",
              "      <th>Close</th>\n",
              "      <th>Adj Close</th>\n",
              "      <th>Volume</th>\n",
              "    </tr>\n",
              "  </thead>\n",
              "  <tbody>\n",
              "    <tr>\n",
              "      <th>0</th>\n",
              "      <td>1997-07-01</td>\n",
              "      <td>798.500000</td>\n",
              "      <td>798.500000</td>\n",
              "      <td>798.500000</td>\n",
              "      <td>798.500000</td>\n",
              "      <td>798.500000</td>\n",
              "      <td>0.0</td>\n",
              "    </tr>\n",
              "    <tr>\n",
              "      <th>1</th>\n",
              "      <td>1997-07-02</td>\n",
              "      <td>805.299988</td>\n",
              "      <td>805.299988</td>\n",
              "      <td>805.299988</td>\n",
              "      <td>805.299988</td>\n",
              "      <td>805.299988</td>\n",
              "      <td>0.0</td>\n",
              "    </tr>\n",
              "    <tr>\n",
              "      <th>2</th>\n",
              "      <td>1997-07-03</td>\n",
              "      <td>810.799988</td>\n",
              "      <td>810.799988</td>\n",
              "      <td>810.799988</td>\n",
              "      <td>810.799988</td>\n",
              "      <td>810.799988</td>\n",
              "      <td>0.0</td>\n",
              "    </tr>\n",
              "    <tr>\n",
              "      <th>3</th>\n",
              "      <td>1997-07-07</td>\n",
              "      <td>828.200012</td>\n",
              "      <td>828.200012</td>\n",
              "      <td>828.200012</td>\n",
              "      <td>828.200012</td>\n",
              "      <td>828.200012</td>\n",
              "      <td>0.0</td>\n",
              "    </tr>\n",
              "    <tr>\n",
              "      <th>4</th>\n",
              "      <td>1997-07-08</td>\n",
              "      <td>821.400024</td>\n",
              "      <td>821.400024</td>\n",
              "      <td>821.400024</td>\n",
              "      <td>821.400024</td>\n",
              "      <td>821.400024</td>\n",
              "      <td>0.0</td>\n",
              "    </tr>\n",
              "    <tr>\n",
              "      <th>5</th>\n",
              "      <td>1997-07-09</td>\n",
              "      <td>816.700012</td>\n",
              "      <td>816.700012</td>\n",
              "      <td>816.700012</td>\n",
              "      <td>816.700012</td>\n",
              "      <td>816.700012</td>\n",
              "      <td>0.0</td>\n",
              "    </tr>\n",
              "    <tr>\n",
              "      <th>6</th>\n",
              "      <td>1997-07-10</td>\n",
              "      <td>820.700012</td>\n",
              "      <td>820.700012</td>\n",
              "      <td>820.700012</td>\n",
              "      <td>820.700012</td>\n",
              "      <td>820.700012</td>\n",
              "      <td>0.0</td>\n",
              "    </tr>\n",
              "    <tr>\n",
              "      <th>7</th>\n",
              "      <td>1997-07-11</td>\n",
              "      <td>823.400024</td>\n",
              "      <td>823.400024</td>\n",
              "      <td>823.400024</td>\n",
              "      <td>823.400024</td>\n",
              "      <td>823.400024</td>\n",
              "      <td>0.0</td>\n",
              "    </tr>\n",
              "    <tr>\n",
              "      <th>8</th>\n",
              "      <td>1997-07-14</td>\n",
              "      <td>821.900024</td>\n",
              "      <td>821.900024</td>\n",
              "      <td>821.900024</td>\n",
              "      <td>821.900024</td>\n",
              "      <td>821.900024</td>\n",
              "      <td>0.0</td>\n",
              "    </tr>\n",
              "    <tr>\n",
              "      <th>9</th>\n",
              "      <td>1997-07-15</td>\n",
              "      <td>NaN</td>\n",
              "      <td>NaN</td>\n",
              "      <td>NaN</td>\n",
              "      <td>NaN</td>\n",
              "      <td>NaN</td>\n",
              "      <td>NaN</td>\n",
              "    </tr>\n",
              "  </tbody>\n",
              "</table>\n",
              "</div>\n",
              "    <div class=\"colab-df-buttons\">\n",
              "\n",
              "  <div class=\"colab-df-container\">\n",
              "    <button class=\"colab-df-convert\" onclick=\"convertToInteractive('df-932383bb-2701-47c2-b5b3-67639841da2b')\"\n",
              "            title=\"Convert this dataframe to an interactive table.\"\n",
              "            style=\"display:none;\">\n",
              "\n",
              "  <svg xmlns=\"http://www.w3.org/2000/svg\" height=\"24px\" viewBox=\"0 -960 960 960\">\n",
              "    <path d=\"M120-120v-720h720v720H120Zm60-500h600v-160H180v160Zm220 220h160v-160H400v160Zm0 220h160v-160H400v160ZM180-400h160v-160H180v160Zm440 0h160v-160H620v160ZM180-180h160v-160H180v160Zm440 0h160v-160H620v160Z\"/>\n",
              "  </svg>\n",
              "    </button>\n",
              "\n",
              "  <style>\n",
              "    .colab-df-container {\n",
              "      display:flex;\n",
              "      gap: 12px;\n",
              "    }\n",
              "\n",
              "    .colab-df-convert {\n",
              "      background-color: #E8F0FE;\n",
              "      border: none;\n",
              "      border-radius: 50%;\n",
              "      cursor: pointer;\n",
              "      display: none;\n",
              "      fill: #1967D2;\n",
              "      height: 32px;\n",
              "      padding: 0 0 0 0;\n",
              "      width: 32px;\n",
              "    }\n",
              "\n",
              "    .colab-df-convert:hover {\n",
              "      background-color: #E2EBFA;\n",
              "      box-shadow: 0px 1px 2px rgba(60, 64, 67, 0.3), 0px 1px 3px 1px rgba(60, 64, 67, 0.15);\n",
              "      fill: #174EA6;\n",
              "    }\n",
              "\n",
              "    .colab-df-buttons div {\n",
              "      margin-bottom: 4px;\n",
              "    }\n",
              "\n",
              "    [theme=dark] .colab-df-convert {\n",
              "      background-color: #3B4455;\n",
              "      fill: #D2E3FC;\n",
              "    }\n",
              "\n",
              "    [theme=dark] .colab-df-convert:hover {\n",
              "      background-color: #434B5C;\n",
              "      box-shadow: 0px 1px 3px 1px rgba(0, 0, 0, 0.15);\n",
              "      filter: drop-shadow(0px 1px 2px rgba(0, 0, 0, 0.3));\n",
              "      fill: #FFFFFF;\n",
              "    }\n",
              "  </style>\n",
              "\n",
              "    <script>\n",
              "      const buttonEl =\n",
              "        document.querySelector('#df-932383bb-2701-47c2-b5b3-67639841da2b button.colab-df-convert');\n",
              "      buttonEl.style.display =\n",
              "        google.colab.kernel.accessAllowed ? 'block' : 'none';\n",
              "\n",
              "      async function convertToInteractive(key) {\n",
              "        const element = document.querySelector('#df-932383bb-2701-47c2-b5b3-67639841da2b');\n",
              "        const dataTable =\n",
              "          await google.colab.kernel.invokeFunction('convertToInteractive',\n",
              "                                                    [key], {});\n",
              "        if (!dataTable) return;\n",
              "\n",
              "        const docLinkHtml = 'Like what you see? Visit the ' +\n",
              "          '<a target=\"_blank\" href=https://colab.research.google.com/notebooks/data_table.ipynb>data table notebook</a>'\n",
              "          + ' to learn more about interactive tables.';\n",
              "        element.innerHTML = '';\n",
              "        dataTable['output_type'] = 'display_data';\n",
              "        await google.colab.output.renderOutput(dataTable, element);\n",
              "        const docLink = document.createElement('div');\n",
              "        docLink.innerHTML = docLinkHtml;\n",
              "        element.appendChild(docLink);\n",
              "      }\n",
              "    </script>\n",
              "  </div>\n",
              "\n",
              "\n",
              "<div id=\"df-0e422bc0-1e01-4555-9045-9a029b698943\">\n",
              "  <button class=\"colab-df-quickchart\" onclick=\"quickchart('df-0e422bc0-1e01-4555-9045-9a029b698943')\"\n",
              "            title=\"Suggest charts\"\n",
              "            style=\"display:none;\">\n",
              "\n",
              "<svg xmlns=\"http://www.w3.org/2000/svg\" height=\"24px\"viewBox=\"0 0 24 24\"\n",
              "     width=\"24px\">\n",
              "    <g>\n",
              "        <path d=\"M19 3H5c-1.1 0-2 .9-2 2v14c0 1.1.9 2 2 2h14c1.1 0 2-.9 2-2V5c0-1.1-.9-2-2-2zM9 17H7v-7h2v7zm4 0h-2V7h2v10zm4 0h-2v-4h2v4z\"/>\n",
              "    </g>\n",
              "</svg>\n",
              "  </button>\n",
              "\n",
              "<style>\n",
              "  .colab-df-quickchart {\n",
              "      --bg-color: #E8F0FE;\n",
              "      --fill-color: #1967D2;\n",
              "      --hover-bg-color: #E2EBFA;\n",
              "      --hover-fill-color: #174EA6;\n",
              "      --disabled-fill-color: #AAA;\n",
              "      --disabled-bg-color: #DDD;\n",
              "  }\n",
              "\n",
              "  [theme=dark] .colab-df-quickchart {\n",
              "      --bg-color: #3B4455;\n",
              "      --fill-color: #D2E3FC;\n",
              "      --hover-bg-color: #434B5C;\n",
              "      --hover-fill-color: #FFFFFF;\n",
              "      --disabled-bg-color: #3B4455;\n",
              "      --disabled-fill-color: #666;\n",
              "  }\n",
              "\n",
              "  .colab-df-quickchart {\n",
              "    background-color: var(--bg-color);\n",
              "    border: none;\n",
              "    border-radius: 50%;\n",
              "    cursor: pointer;\n",
              "    display: none;\n",
              "    fill: var(--fill-color);\n",
              "    height: 32px;\n",
              "    padding: 0;\n",
              "    width: 32px;\n",
              "  }\n",
              "\n",
              "  .colab-df-quickchart:hover {\n",
              "    background-color: var(--hover-bg-color);\n",
              "    box-shadow: 0 1px 2px rgba(60, 64, 67, 0.3), 0 1px 3px 1px rgba(60, 64, 67, 0.15);\n",
              "    fill: var(--button-hover-fill-color);\n",
              "  }\n",
              "\n",
              "  .colab-df-quickchart-complete:disabled,\n",
              "  .colab-df-quickchart-complete:disabled:hover {\n",
              "    background-color: var(--disabled-bg-color);\n",
              "    fill: var(--disabled-fill-color);\n",
              "    box-shadow: none;\n",
              "  }\n",
              "\n",
              "  .colab-df-spinner {\n",
              "    border: 2px solid var(--fill-color);\n",
              "    border-color: transparent;\n",
              "    border-bottom-color: var(--fill-color);\n",
              "    animation:\n",
              "      spin 1s steps(1) infinite;\n",
              "  }\n",
              "\n",
              "  @keyframes spin {\n",
              "    0% {\n",
              "      border-color: transparent;\n",
              "      border-bottom-color: var(--fill-color);\n",
              "      border-left-color: var(--fill-color);\n",
              "    }\n",
              "    20% {\n",
              "      border-color: transparent;\n",
              "      border-left-color: var(--fill-color);\n",
              "      border-top-color: var(--fill-color);\n",
              "    }\n",
              "    30% {\n",
              "      border-color: transparent;\n",
              "      border-left-color: var(--fill-color);\n",
              "      border-top-color: var(--fill-color);\n",
              "      border-right-color: var(--fill-color);\n",
              "    }\n",
              "    40% {\n",
              "      border-color: transparent;\n",
              "      border-right-color: var(--fill-color);\n",
              "      border-top-color: var(--fill-color);\n",
              "    }\n",
              "    60% {\n",
              "      border-color: transparent;\n",
              "      border-right-color: var(--fill-color);\n",
              "    }\n",
              "    80% {\n",
              "      border-color: transparent;\n",
              "      border-right-color: var(--fill-color);\n",
              "      border-bottom-color: var(--fill-color);\n",
              "    }\n",
              "    90% {\n",
              "      border-color: transparent;\n",
              "      border-bottom-color: var(--fill-color);\n",
              "    }\n",
              "  }\n",
              "</style>\n",
              "\n",
              "  <script>\n",
              "    async function quickchart(key) {\n",
              "      const quickchartButtonEl =\n",
              "        document.querySelector('#' + key + ' button');\n",
              "      quickchartButtonEl.disabled = true;  // To prevent multiple clicks.\n",
              "      quickchartButtonEl.classList.add('colab-df-spinner');\n",
              "      try {\n",
              "        const charts = await google.colab.kernel.invokeFunction(\n",
              "            'suggestCharts', [key], {});\n",
              "      } catch (error) {\n",
              "        console.error('Error during call to suggestCharts:', error);\n",
              "      }\n",
              "      quickchartButtonEl.classList.remove('colab-df-spinner');\n",
              "      quickchartButtonEl.classList.add('colab-df-quickchart-complete');\n",
              "    }\n",
              "    (() => {\n",
              "      let quickchartButtonEl =\n",
              "        document.querySelector('#df-0e422bc0-1e01-4555-9045-9a029b698943 button');\n",
              "      quickchartButtonEl.style.display =\n",
              "        google.colab.kernel.accessAllowed ? 'block' : 'none';\n",
              "    })();\n",
              "  </script>\n",
              "</div>\n",
              "    </div>\n",
              "  </div>\n"
            ],
            "application/vnd.google.colaboratory.intrinsic+json": {
              "type": "dataframe",
              "variable_name": "df",
              "summary": "{\n  \"name\": \"df\",\n  \"rows\": 5949,\n  \"fields\": [\n    {\n      \"column\": \"Date\",\n      \"properties\": {\n        \"dtype\": \"object\",\n        \"min\": \"1997-07-01\",\n        \"max\": \"2021-02-19\",\n        \"samples\": [\n          \"2013-07-18\",\n          \"2014-05-15\",\n          \"2005-04-26\"\n        ],\n        \"num_unique_values\": 5949,\n        \"semantic_type\": \"\",\n        \"description\": \"\"\n      }\n    },\n    {\n      \"column\": \"Open\",\n      \"properties\": {\n        \"dtype\": \"number\",\n        \"std\": 2528.2626680638477,\n        \"min\": 383.440002,\n        \"max\": 8975.730469,\n        \"samples\": [\n          772.02002,\n          6521.299805,\n          547.640015\n        ],\n        \"num_unique_values\": 5441,\n        \"semantic_type\": \"\",\n        \"description\": \"\"\n      }\n    },\n    {\n      \"column\": \"High\",\n      \"properties\": {\n        \"dtype\": \"number\",\n        \"std\": 2538.30714839304,\n        \"min\": 385.450012,\n        \"max\": 9025.820313,\n        \"samples\": [\n          4813.089844,\n          6025.200195,\n          2530.120117\n        ],\n        \"num_unique_values\": 5431,\n        \"semantic_type\": \"\",\n        \"description\": \"\"\n      }\n    },\n    {\n      \"column\": \"Low\",\n      \"properties\": {\n        \"dtype\": \"number\",\n        \"std\": 2519.8805435107415,\n        \"min\": 382.410004,\n        \"max\": 8665.820313,\n        \"samples\": [\n          712.950012,\n          6917.509766,\n          5942.620117\n        ],\n        \"num_unique_values\": 5263,\n        \"semantic_type\": \"\",\n        \"description\": \"\"\n      }\n    },\n    {\n      \"column\": \"Close\",\n      \"properties\": {\n        \"dtype\": \"number\",\n        \"std\": 2527.6333904614203,\n        \"min\": 383.440002,\n        \"max\": 8812.009766,\n        \"samples\": [\n          4780.220215,\n          5981.160156,\n          2558.129883\n        ],\n        \"num_unique_values\": 5433,\n        \"semantic_type\": \"\",\n        \"description\": \"\"\n      }\n    },\n    {\n      \"column\": \"Adj Close\",\n      \"properties\": {\n        \"dtype\": \"number\",\n        \"std\": 2527.6333904614203,\n        \"min\": 383.440002,\n        \"max\": 8812.009766,\n        \"samples\": [\n          4780.220215,\n          5981.160156,\n          2558.129883\n        ],\n        \"num_unique_values\": 5433,\n        \"semantic_type\": \"\",\n        \"description\": \"\"\n      }\n    },\n    {\n      \"column\": \"Volume\",\n      \"properties\": {\n        \"dtype\": \"number\",\n        \"std\": 82476406.62460914,\n        \"min\": 0.0,\n        \"max\": 2556952500.0,\n        \"samples\": [\n          15878600.0,\n          4361000.0,\n          95698300.0\n        ],\n        \"num_unique_values\": 4751,\n        \"semantic_type\": \"\",\n        \"description\": \"\"\n      }\n    }\n  ]\n}"
            }
          },
          "metadata": {},
          "execution_count": 27
        }
      ]
    },
    {
      "cell_type": "code",
      "source": [
        "x = np.array(df[\"Open\"].values)"
      ],
      "metadata": {
        "id": "OPjh538rrjPJ"
      },
      "execution_count": 28,
      "outputs": []
    },
    {
      "cell_type": "code",
      "source": [
        "y = np.array(df[\"Adj Close\"].values)"
      ],
      "metadata": {
        "id": "k5fze6a0rwR5"
      },
      "execution_count": 29,
      "outputs": []
    },
    {
      "cell_type": "markdown",
      "source": [
        "**Check for missing values in x and y columns**"
      ],
      "metadata": {
        "id": "elMGjt6_sfmC"
      }
    },
    {
      "cell_type": "code",
      "source": [
        "missing_x = df[\"Open\"].isnull().sum()\n",
        "missing_y = df[\"Adj Close\"].isnull().sum()\n",
        "\n",
        "if missing_x > 0 or missing_y > 0:\n",
        "    print(f\"Missing values in 'Open' column: {missing_x}\")\n",
        "    print(f\"Missing values in 'Adj Close' column: {missing_y}\")\n",
        "\n",
        "    # Impute missing values with column means\n",
        "    df[\"Open\"].fillna(df[\"Open\"].mean(), inplace=True)\n",
        "    df[\"Adj Close\"].fillna(df[\"Adj Close\"].mean(), inplace=True)\n",
        "\n",
        "    # Verify that missing values are filled\n",
        "    print(\"After handling missing values:\")\n",
        "    print(f\"Missing values in 'Open' column: {df['Open'].isnull().sum()}\")\n",
        "    print(f\"Missing values in 'Adj Close' column: {df['Adj Close'].isnull().sum()}\")\n",
        "\n",
        "# Proceed with the rest code\n",
        "x = np.array(df[\"Open\"].values)\n",
        "y = np.array(df[\"Adj Close\"].values)\n"
      ],
      "metadata": {
        "colab": {
          "base_uri": "https://localhost:8080/"
        },
        "id": "emY4sBKxskbw",
        "outputId": "a26c93d4-d74c-4177-c1fd-a005091f07e3"
      },
      "execution_count": 30,
      "outputs": [
        {
          "output_type": "stream",
          "name": "stdout",
          "text": [
            "Missing values in 'Open' column: 439\n",
            "Missing values in 'Adj Close' column: 439\n",
            "After handling missing values:\n",
            "Missing values in 'Open' column: 0\n",
            "Missing values in 'Adj Close' column: 0\n"
          ]
        }
      ]
    },
    {
      "cell_type": "markdown",
      "source": [
        "**Spliting the data set into train and test**"
      ],
      "metadata": {
        "id": "Ch2eh5yQtn4n"
      }
    },
    {
      "cell_type": "code",
      "source": [
        "x_train,x_test,y_train,y_test = train_test_split(x,y,test_size =0.2)"
      ],
      "metadata": {
        "id": "OnO9Kt8etnZn"
      },
      "execution_count": 31,
      "outputs": []
    },
    {
      "cell_type": "markdown",
      "source": [
        "**Model Creation and Calculate RMSE values**"
      ],
      "metadata": {
        "id": "Vbns21MrtEbI"
      }
    },
    {
      "cell_type": "code",
      "source": [
        "# Reshape input data to meet the requirements of the LSTM model\n",
        "x_train_reshaped = x_train.reshape((x_train.shape[0], 1, 1))\n",
        "x_test_reshaped = x_test.reshape((x_test.shape[0], 1, 1))\n",
        "\n",
        "# Define the model\n",
        "model = Sequential()\n",
        "\n",
        "# Add an LSTM layer with, for example, 50 units\n",
        "model.add(LSTM(50, activation='relu', input_shape=(1, 1)))\n",
        "\n",
        "# Add a Dense layer for the output\n",
        "model.add(Dense(1))\n",
        "\n",
        "# Compile the model\n",
        "model.compile(optimizer='adam', loss='mse', metrics=['mae', RootMeanSquaredError()])  # Add RMSE as a metric\n",
        "\n",
        "# Train the model\n",
        "history = model.fit(x_train_reshaped, y_train, epochs=10, batch_size=32, validation_data=(x_test_reshaped, y_test))\n",
        "\n",
        "# Evaluate the model\n",
        "loss, mae, rmse = model.evaluate(x_test_reshaped, y_test)\n",
        "print(f\"Test Loss: {loss}\")\n",
        "print(f\"Test MAE: {mae}\")\n",
        "print(f\"Test RMSE: {rmse}\")\n",
        "\n",
        "# Calculate RMSE separately using scikit-learn\n",
        "y_pred = model.predict(x_test_reshaped)\n",
        "rmse_sklearn = np.sqrt(mean_squared_error(y_test, y_pred))\n",
        "print(f\"Test RMSE (using scikit-learn): {rmse_sklearn}\")\n",
        "\n",
        "# Print the training history (loss, MAE, and validation loss over epochs)\n",
        "print(\"Training Loss:\", history.history['loss'])\n",
        "print(\"Training MAE:\", history.history['mae'])\n",
        "print(\"Validation Loss:\", history.history['val_loss'])"
      ],
      "metadata": {
        "colab": {
          "base_uri": "https://localhost:8080/"
        },
        "id": "aTyf6OMBtTO-",
        "outputId": "e3e7aec1-2c5c-4bcc-a054-cbe833f5f454"
      },
      "execution_count": 32,
      "outputs": [
        {
          "output_type": "stream",
          "name": "stdout",
          "text": [
            "Epoch 1/10\n",
            "149/149 [==============================] - 3s 7ms/step - loss: 7673144.0000 - mae: 2180.7036 - root_mean_squared_error: 2770.0439 - val_loss: 1221936.7500 - val_mae: 914.4338 - val_root_mean_squared_error: 1105.4125\n",
            "Epoch 2/10\n",
            "149/149 [==============================] - 2s 11ms/step - loss: 224208.7969 - mae: 293.0548 - root_mean_squared_error: 473.5069 - val_loss: 1496.2482 - val_mae: 24.4582 - val_root_mean_squared_error: 38.6814\n",
            "Epoch 3/10\n",
            "149/149 [==============================] - 1s 9ms/step - loss: 1159.5637 - mae: 18.9435 - root_mean_squared_error: 34.0524 - val_loss: 1152.7091 - val_mae: 18.5227 - val_root_mean_squared_error: 33.9516\n",
            "Epoch 4/10\n",
            "149/149 [==============================] - 1s 9ms/step - loss: 1137.5736 - mae: 18.4170 - root_mean_squared_error: 33.7279 - val_loss: 1152.0315 - val_mae: 18.4880 - val_root_mean_squared_error: 33.9416\n",
            "Epoch 5/10\n",
            "149/149 [==============================] - 2s 11ms/step - loss: 1138.3732 - mae: 18.4629 - root_mean_squared_error: 33.7398 - val_loss: 1152.2211 - val_mae: 18.4966 - val_root_mean_squared_error: 33.9444\n",
            "Epoch 6/10\n",
            "149/149 [==============================] - 1s 4ms/step - loss: 1137.3959 - mae: 18.4032 - root_mean_squared_error: 33.7253 - val_loss: 1151.8380 - val_mae: 18.5286 - val_root_mean_squared_error: 33.9387\n",
            "Epoch 7/10\n",
            "149/149 [==============================] - 1s 7ms/step - loss: 1138.8335 - mae: 18.4280 - root_mean_squared_error: 33.7466 - val_loss: 1152.1615 - val_mae: 18.4911 - val_root_mean_squared_error: 33.9435\n",
            "Epoch 8/10\n",
            "149/149 [==============================] - 1s 7ms/step - loss: 1136.1945 - mae: 18.4362 - root_mean_squared_error: 33.7075 - val_loss: 1152.9845 - val_mae: 18.6067 - val_root_mean_squared_error: 33.9556\n",
            "Epoch 9/10\n",
            "149/149 [==============================] - 1s 8ms/step - loss: 1137.4985 - mae: 18.4328 - root_mean_squared_error: 33.7268 - val_loss: 1152.3842 - val_mae: 18.4996 - val_root_mean_squared_error: 33.9468\n",
            "Epoch 10/10\n",
            "149/149 [==============================] - 1s 7ms/step - loss: 1138.1615 - mae: 18.4660 - root_mean_squared_error: 33.7366 - val_loss: 1159.3688 - val_mae: 18.7202 - val_root_mean_squared_error: 34.0495\n",
            "38/38 [==============================] - 0s 2ms/step - loss: 1159.3688 - mae: 18.7202 - root_mean_squared_error: 34.0495\n",
            "Test Loss: 1159.3687744140625\n",
            "Test MAE: 18.720226287841797\n",
            "Test RMSE: 34.049503326416016\n",
            "38/38 [==============================] - 0s 2ms/step\n",
            "Test RMSE (using scikit-learn): 34.04950353064784\n",
            "Training Loss: [7673144.0, 224208.796875, 1159.563720703125, 1137.5736083984375, 1138.3731689453125, 1137.3958740234375, 1138.83349609375, 1136.1944580078125, 1137.49853515625, 1138.1614990234375]\n",
            "Training MAE: [2180.70361328125, 293.0547790527344, 18.943546295166016, 18.416959762573242, 18.462881088256836, 18.403240203857422, 18.427959442138672, 18.43622589111328, 18.43284034729004, 18.46604347229004]\n",
            "Validation Loss: [1221936.75, 1496.2481689453125, 1152.7091064453125, 1152.031494140625, 1152.2210693359375, 1151.8380126953125, 1152.1614990234375, 1152.9844970703125, 1152.3841552734375, 1159.3687744140625]\n"
          ]
        }
      ]
    },
    {
      "cell_type": "markdown",
      "source": [
        "**Predict Stock Price**"
      ],
      "metadata": {
        "id": "UfB3yAR8veCJ"
      }
    },
    {
      "cell_type": "code",
      "source": [
        "# Use the trained model to make predictions on the test set\n",
        "y_pred = model.predict(x_test_reshaped)\n",
        "\n",
        "# If you reshaped the input data, flatten the predictions for easier comparison\n",
        "y_pred = y_pred.flatten()\n",
        "\n",
        "# Create a DataFrame to compare the actual and predicted values\n",
        "results = pd.DataFrame({'Actual': y_test, 'Predicted': y_pred})\n",
        "print(results)"
      ],
      "metadata": {
        "colab": {
          "base_uri": "https://localhost:8080/"
        },
        "id": "jSdpI6Cmvjyp",
        "outputId": "be7b55fc-2f6b-403c-93c0-0c76bbd6288e"
      },
      "execution_count": 34,
      "outputs": [
        {
          "output_type": "stream",
          "name": "stdout",
          "text": [
            "38/38 [==============================] - 0s 2ms/step\n",
            "           Actual    Predicted\n",
            "0      701.299988   700.997009\n",
            "1     1298.880005  1297.965210\n",
            "2     4505.689941  4524.511719\n",
            "3     2800.969971  2813.416504\n",
            "4     6155.410156  6122.766602\n",
            "...           ...          ...\n",
            "1185  5905.910156  5866.959961\n",
            "1186  5996.439941  6030.774414\n",
            "1187   771.989990   778.702393\n",
            "1188  1353.209961  1354.538696\n",
            "1189  6540.189941  6550.790039\n",
            "\n",
            "[1190 rows x 2 columns]\n"
          ]
        }
      ]
    }
  ]
}